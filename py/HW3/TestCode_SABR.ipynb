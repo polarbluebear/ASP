{
 "cells": [
  {
   "cell_type": "markdown",
   "metadata": {
    "collapsed": true
   },
   "source": [
    "# SABR Model Test Code"
   ]
  },
  {
   "cell_type": "code",
   "execution_count": 1,
   "metadata": {},
   "outputs": [],
   "source": [
    "%load_ext autoreload\n",
    "%autoreload 2"
   ]
  },
  {
   "cell_type": "code",
   "execution_count": 2,
   "metadata": {},
   "outputs": [],
   "source": [
    "import imp\n",
    "import numpy as np\n",
    "import matplotlib.pyplot as plt\n",
    "#import sys\n",
    "#sys.path.insert(sys.path.index('')+1, 'D:/Github/PyFENG')\n",
    "import pyfeng as pf\n",
    "import option_models as opt\n",
    "\n",
    "np.set_printoptions(precision=3)"
   ]
  },
  {
   "cell_type": "markdown",
   "metadata": {},
   "source": [
    "## 1. Pricing using Hagan's formula (provided)"
   ]
  },
  {
   "cell_type": "markdown",
   "metadata": {},
   "source": [
    "### (1) SABR for $0<\\beta\\le 1$"
   ]
  },
  {
   "cell_type": "code",
   "execution_count": 3,
   "metadata": {},
   "outputs": [],
   "source": [
    "# Parameters\n",
    "strike = np.linspace(75,125,num=25)\n",
    "forward = 100\n",
    "sigma = 0.2\n",
    "texp = 1\n",
    "vov = 0.5\n",
    "rho = 0.25\n",
    "beta = 1"
   ]
  },
  {
   "cell_type": "code",
   "execution_count": 4,
   "metadata": {},
   "outputs": [
    {
     "data": {
      "text/plain": [
       "{'sigma': 0.2,\n",
       " 'intr': 0.0,\n",
       " 'divr': 0.0,\n",
       " 'is_fwd': False,\n",
       " 'vov': 0.5,\n",
       " 'rho': 0.25,\n",
       " 'beta': 1}"
      ]
     },
     "execution_count": 4,
     "metadata": {},
     "output_type": "execute_result"
    }
   ],
   "source": [
    "# Create model\n",
    "sabr_bsm = pf.SabrHagan2002(sigma, vov=vov, rho=rho, beta=beta)\n",
    "sabr_bsm.__dict__"
   ]
  },
  {
   "cell_type": "code",
   "execution_count": 5,
   "metadata": {},
   "outputs": [
    {
     "data": {
      "text/plain": [
       "(array([ 75.   ,  77.083,  79.167,  81.25 ,  83.333,  85.417,  87.5  ,\n",
       "         89.583,  91.667,  93.75 ,  95.833,  97.917, 100.   , 102.083,\n",
       "        104.167, 106.25 , 108.333, 110.417, 112.5  , 114.583, 116.667,\n",
       "        118.75 , 120.833, 122.917, 125.   ]),\n",
       " array([25.631, 23.751, 21.924, 20.159, 18.465, 16.85 , 15.32 , 13.884,\n",
       "        12.543, 11.302, 10.159,  9.115,  8.165,  7.306,  6.532,  5.838,\n",
       "         5.217,  4.663,  4.17 ,  3.731,  3.342,  2.996,  2.689,  2.417,\n",
       "         2.175]),\n",
       " array([0.204, 0.203, 0.202, 0.201, 0.2  , 0.2  , 0.2  , 0.2  , 0.201,\n",
       "        0.202, 0.203, 0.204, 0.205, 0.206, 0.208, 0.21 , 0.211, 0.213,\n",
       "        0.215, 0.217, 0.219, 0.221, 0.223, 0.225, 0.227]))"
      ]
     },
     "execution_count": 5,
     "metadata": {},
     "output_type": "execute_result"
    }
   ],
   "source": [
    "# This is how you price. you can get either price or bsm_vol\n",
    "price = sabr_bsm.price(strike, forward, texp)\n",
    "bsm_vol = sabr_bsm.vol_smile(strike, forward, texp)\n",
    "\n",
    "strike, price, bsm_vol"
   ]
  },
  {
   "cell_type": "code",
   "execution_count": 6,
   "metadata": {},
   "outputs": [
    {
     "data": {
      "image/png": "[encoded data removed]",
      "text/plain": [
       "<Figure size 432x288 with 1 Axes>"
      ]
     },
     "metadata": {
      "needs_background": "light"
     },
     "output_type": "display_data"
    }
   ],
   "source": [
    "# volatility smile plot: try with different parameters\n",
    "plt.plot(strike, bsm_vol, 'ro')\n",
    "#plt.axis([0, 6, 0, 20])\n",
    "plt.ylabel('BSM Imp Vol under SABR')\n",
    "plt.xlabel('Strike')\n",
    "plt.grid()\n",
    "plt.show()"
   ]
  },
  {
   "cell_type": "markdown",
   "metadata": {},
   "source": [
    "### (2) SABR for $\\beta=0$"
   ]
  },
  {
   "cell_type": "code",
   "execution_count": 7,
   "metadata": {},
   "outputs": [],
   "source": [
    "strike = np.linspace(75,125,num=25)\n",
    "forward = 100\n",
    "sigma = 20\n",
    "texp = 1\n",
    "alpha = 0.5\n",
    "rho = -0.25"
   ]
  },
  {
   "cell_type": "code",
   "execution_count": 8,
   "metadata": {},
   "outputs": [],
   "source": [
    "sabr_norm = pf.SabrHagan2002(sigma, vov=vov, rho=rho, beta=0)\n",
    "price = sabr_norm.price(strike, forward, texp)\n",
    "nvol = sabr_norm.vol_smile(strike, forward, texp, model='norm')"
   ]
  },
  {
   "cell_type": "code",
   "execution_count": 9,
   "metadata": {},
   "outputs": [
    {
     "data": {
      "image/png": "[encoded data removed]",
      "text/plain": [
       "<Figure size 432x288 with 1 Axes>"
      ]
     },
     "metadata": {
      "needs_background": "light"
     },
     "output_type": "display_data"
    }
   ],
   "source": [
    "plt.plot(strike, nvol, 'ro')\n",
    "#plt.axis([0, 6, 0, 20])\n",
    "plt.ylabel('Normal Imp Vol under SABR')\n",
    "plt.xlabel('Strike')\n",
    "plt.grid()\n",
    "plt.show()"
   ]
  },
  {
   "cell_type": "markdown",
   "metadata": {},
   "source": [
    "### (3) Smile calibration to 3 options"
   ]
  },
  {
   "cell_type": "code",
   "execution_count": 10,
   "metadata": {},
   "outputs": [
    {
     "data": {
      "text/plain": [
       "(array([13.608,  8.165,  4.769]), array([0.201, 0.205, 0.213]))"
      ]
     },
     "execution_count": 10,
     "metadata": {},
     "output_type": "execute_result"
    }
   ],
   "source": [
    "strike3 = np.array([90, 100, 110])\n",
    "price3 = sabr_bsm.price(strike3, forward, texp)\n",
    "vol3 = sabr_bsm.vol_smile(strike3, forward, texp)\n",
    "\n",
    "price3, vol3"
   ]
  },
  {
   "cell_type": "code",
   "execution_count": 11,
   "metadata": {},
   "outputs": [
    {
     "data": {
      "text/plain": [
       "{'sigma': 0.2,\n",
       " 'intr': 0.0,\n",
       " 'divr': 0.0,\n",
       " 'is_fwd': False,\n",
       " 'vov': 0.5,\n",
       " 'rho': 0.25,\n",
       " 'beta': 1}"
      ]
     },
     "execution_count": 11,
     "metadata": {},
     "output_type": "execute_result"
    }
   ],
   "source": [
    "sabr_bsm.__dict__"
   ]
  },
  {
   "cell_type": "code",
   "execution_count": 12,
   "metadata": {},
   "outputs": [
    {
     "data": {
      "text/plain": [
       "{'sigma': 0.2000000000001008,\n",
       " 'vov': 0.4999999998672808,\n",
       " 'rho': 0.24999999998258432}"
      ]
     },
     "execution_count": 12,
     "metadata": {},
     "output_type": "execute_result"
    }
   ],
   "source": [
    "# makre sure this return the original sigma, alpha, rho\n",
    "sabr_bsm.calibrate3(vol3, strike3, forward, texp, is_vol=True)"
   ]
  },
  {
   "cell_type": "code",
   "execution_count": 13,
   "metadata": {},
   "outputs": [
    {
     "data": {
      "text/plain": [
       "{'sigma': 0.19999999979636335,\n",
       " 'vov': 0.5000000129299839,\n",
       " 'rho': 0.2499999894054446}"
      ]
     },
     "execution_count": 13,
     "metadata": {},
     "output_type": "execute_result"
    }
   ],
   "source": [
    "# makre sure this return the original sigma, alpha, rho\n",
    "sabr_bsm.calibrate3(price3, strike3, forward, texp, is_vol=False)"
   ]
  },
  {
   "cell_type": "markdown",
   "metadata": {},
   "source": [
    "## 2. Pricing under MC method"
   ]
  },
  {
   "cell_type": "code",
   "execution_count": 14,
   "metadata": {},
   "outputs": [],
   "source": [
    "strike = np.linspace(75,125,num=25)\n",
    "forward = 100"
   ]
  },
  {
   "cell_type": "code",
   "execution_count": 15,
   "metadata": {},
   "outputs": [
    {
     "name": "stdout",
     "output_type": "stream",
     "text": [
      "{'sigma': 0.2, 'intr': 0.0, 'divr': 0.0, 'is_fwd': False, 'vov': 0.5, 'rho': 0.25, 'beta': 1}\n"
     ]
    }
   ],
   "source": [
    "# instantiate mc model from the hagan model's parameters\n",
    "print(sabr_bsm.__dict__)\n",
    "sabr_bsm_mc = opt.sabr.ModelBsmMC(sabr_bsm.sigma, vov=sabr_bsm.vov, rho=sabr_bsm.rho, beta=1)"
   ]
  },
  {
   "cell_type": "code",
   "execution_count": 16,
   "metadata": {},
   "outputs": [
    {
     "data": {
      "text/plain": [
       "(array([25.631, 23.751, 21.924, 20.159, 18.465, 16.85 , 15.32 , 13.884,\n",
       "        12.543, 11.302, 10.159,  9.115,  8.165,  7.306,  6.532,  5.838,\n",
       "         5.217,  4.663,  4.17 ,  3.731,  3.342,  2.996,  2.689,  2.417,\n",
       "         2.175]),\n",
       " array([25.78 , 23.893, 22.062, 20.291, 18.591, 16.971, 15.441, 14.007,\n",
       "        12.668, 11.423, 10.275,  9.223,  8.263,  7.393,  6.611,  5.907,\n",
       "         5.276,  4.708,  4.199,  3.747,  3.344,  2.984,  2.665,  2.379,\n",
       "         2.129]))"
      ]
     },
     "execution_count": 16,
     "metadata": {},
     "output_type": "execute_result"
    }
   ],
   "source": [
    "price_hagan = sabr_bsm.price(strike, forward, texp)\n",
    "price_mc = sabr_bsm_mc.price(strike, forward, texp)\n",
    "\n",
    "# make sure the two prices are similar\n",
    "price_hagan, price_mc"
   ]
  },
  {
   "cell_type": "markdown",
   "metadata": {},
   "source": [
    "Repeat the same for beta = 0"
   ]
  },
  {
   "cell_type": "code",
   "execution_count": 17,
   "metadata": {},
   "outputs": [
    {
     "name": "stdout",
     "output_type": "stream",
     "text": [
      "{'sigma': 20, 'intr': 0.0, 'divr': 0.0, 'is_fwd': False, 'vov': 0.5, 'rho': -0.25, 'beta': 0}\n"
     ]
    }
   ],
   "source": [
    "# instantiate mc model from the hagan model's parameters\n",
    "print(sabr_norm.__dict__)\n",
    "sabr_norm_mc = opt.sabr.ModelNormalMC(sabr_norm.sigma, vov=sabr_norm.vov, rho=sabr_norm.rho, beta=0)"
   ]
  },
  {
   "cell_type": "code",
   "execution_count": 18,
   "metadata": {},
   "outputs": [
    {
     "data": {
      "text/plain": [
       "(array([26.591, 24.753, 22.952, 21.192, 19.479, 17.818, 16.215, 14.675,\n",
       "        13.206, 11.811, 10.497,  9.268,  8.129,  7.08 ,  6.125,  5.262,\n",
       "         4.49 ,  3.807,  3.207,  2.686,  2.237,  1.854,  1.53 ,  1.257,\n",
       "         1.03 ]),\n",
       " array([26.783, 24.94 , 23.135, 21.373, 19.655, 17.987, 16.375, 14.826,\n",
       "        13.345, 11.938, 10.617,  9.384,  8.248,  7.202,  6.246,  5.376,\n",
       "         4.597,  3.906,  3.301,  2.773,  2.316,  1.923,  1.584,  1.296,\n",
       "         1.057]))"
      ]
     },
     "execution_count": 18,
     "metadata": {},
     "output_type": "execute_result"
    }
   ],
   "source": [
    "price_hagan = sabr_norm.price(strike, forward, texp)\n",
    "price_mc = sabr_norm_mc.price(strike, forward, texp)\n",
    "\n",
    "# make sure the two prices are similar\n",
    "price_hagan, price_mc"
   ]
  },
  {
   "cell_type": "markdown",
   "metadata": {
    "collapsed": true
   },
   "source": [
    "## 3. Pricing under conditional MC method"
   ]
  },
  {
   "cell_type": "code",
   "execution_count": 47,
   "metadata": {},
   "outputs": [],
   "source": [
    "strike = np.linspace(75,125,num=25)\n",
    "forward = 100"
   ]
  },
  {
   "cell_type": "code",
   "execution_count": 48,
   "metadata": {},
   "outputs": [
    {
     "name": "stdout",
     "output_type": "stream",
     "text": [
      "{'sigma': 0.2, 'intr': 0.0, 'divr': 0.0, 'is_fwd': False, 'vov': 0.5, 'rho': 0.25, 'beta': 1}\n"
     ]
    }
   ],
   "source": [
    "# instantiate mc model from the hagan model's parameters\n",
    "print(sabr_bsm.__dict__)\n",
    "sabr_bsm_cmc = opt.sabr.ModelBsmCondMC(sabr_bsm.sigma, vov=sabr_bsm.vov, rho=sabr_bsm.rho, beta=1)"
   ]
  },
  {
   "cell_type": "code",
   "execution_count": 49,
   "metadata": {},
   "outputs": [
    {
     "data": {
      "text/plain": [
       "(array([25.631, 23.751, 21.924, 20.159, 18.465, 16.85 , 15.32 , 13.884,\n",
       "        12.543, 11.302, 10.159,  9.115,  8.165,  7.306,  6.532,  5.838,\n",
       "         5.217,  4.663,  4.17 ,  3.731,  3.342,  2.996,  2.689,  2.417,\n",
       "         2.175]),\n",
       " array([25.568, 23.688, 21.862, 20.097, 18.403, 16.788, 15.26 , 13.823,\n",
       "        12.482, 11.24 , 10.096,  9.051,  8.099,  7.239,  6.464,  5.768,\n",
       "         5.146,  4.591,  4.097,  3.658,  3.269,  2.923,  2.616,  2.345,\n",
       "         2.104]))"
      ]
     },
     "execution_count": 49,
     "metadata": {},
     "output_type": "execute_result"
    }
   ],
   "source": [
    "price_hagan = sabr_bsm.price(strike, forward, texp)\n",
    "price_mc = sabr_bsm_cmc.price(strike, forward, texp)\n",
    "\n",
    "# make sure the two prices are similar\n",
    "price_hagan, price_mc"
   ]
  },
  {
   "cell_type": "markdown",
   "metadata": {},
   "source": [
    "Repeat the same for beta = 0"
   ]
  },
  {
   "cell_type": "code",
   "execution_count": 50,
   "metadata": {},
   "outputs": [
    {
     "name": "stdout",
     "output_type": "stream",
     "text": [
      "{'sigma': 20, 'intr': 0.0, 'divr': 0.0, 'is_fwd': False, 'vov': 0.5, 'rho': -0.25, 'beta': 0}\n"
     ]
    }
   ],
   "source": [
    "# instantiate mc model from the hagan model's parameters\n",
    "print(sabr_norm.__dict__)\n",
    "sabr_norm_cmc = opt.sabr.ModelNormalCondMC(sabr_norm.sigma, vov=sabr_norm.vov, rho=sabr_norm.rho, beta=0)"
   ]
  },
  {
   "cell_type": "code",
   "execution_count": 51,
   "metadata": {},
   "outputs": [
    {
     "data": {
      "text/plain": [
       "(array([26.591, 24.753, 22.952, 21.192, 19.479, 17.818, 16.215, 14.675,\n",
       "        13.206, 11.811, 10.497,  9.268,  8.129,  7.08 ,  6.125,  5.262,\n",
       "         4.49 ,  3.807,  3.207,  2.686,  2.237,  1.854,  1.53 ,  1.257,\n",
       "         1.03 ]),\n",
       " array([26.593, 24.753, 22.949, 21.188, 19.473, 17.811, 16.207, 14.667,\n",
       "        13.197, 11.803, 10.49 ,  9.262,  8.123,  7.075,  6.12 ,  5.258,\n",
       "         4.486,  3.803,  3.203,  2.682,  2.233,  1.849,  1.525,  1.252,\n",
       "         1.024]))"
      ]
     },
     "execution_count": 51,
     "metadata": {},
     "output_type": "execute_result"
    }
   ],
   "source": [
    "price_hagan = sabr_norm.price(strike, forward, texp)\n",
    "price_mc = sabr_norm_cmc.price(strike, forward, texp)\n",
    "    \n",
    "# make sure the two prices are similar\n",
    "price_hagan, price_mc"
   ]
  },
  {
   "cell_type": "markdown",
   "metadata": {
    "collapsed": true
   },
   "source": [
    "## Compare the MC variance between brute-force MC and conditional MC\n",
    "For this, you should not use the random number seed"
   ]
  }
 ],
 "metadata": {
  "anaconda-cloud": {},
  "kernelspec": {
   "display_name": "Python 3",
   "language": "python",
   "name": "python3"
  },
  "language_info": {
   "codemirror_mode": {
    "name": "ipython",
    "version": 3
   },
   "file_extension": ".py",
   "mimetype": "text/x-python",
   "name": "python",
   "nbconvert_exporter": "python",
   "pygments_lexer": "ipython3",
   "version": "3.8.3"
  }
 },
 "nbformat": 4,
 "nbformat_minor": 1
}
